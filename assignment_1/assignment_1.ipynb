{
  "cells": [
    {
      "cell_type": "markdown",
      "metadata": {
        "id": "Z0f4k9QneRw1"
      },
      "source": [
        "## Task 1"
      ]
    },
    {
      "cell_type": "code",
      "execution_count": 3,
      "metadata": {
        "colab": {
          "base_uri": "https://localhost:8080/"
        },
        "id": "ln9zWoOi_tps",
        "outputId": "18880b34-1ad0-4152-9257-cdcc1aa74bde"
      },
      "outputs": [
        {
          "name": "stdout",
          "output_type": "stream",
          "text": [
            "wav shapes:  torch.Size([2, 479729])\n",
            "Spectrogram shape: torch.Size([2, 201, 2999])\n",
            "Mel filterbanks shape: torch.Size([201, 80])\n",
            "Spectrogram shape: torch.Size([2, 201, 2999])\n"
          ]
        }
      ],
      "source": [
        "from melbanks import LogMelFilterBanks\n",
        "import torchaudio\n",
        "import torch\n",
        "\n",
        "\n",
        "signal, sr = torchaudio.load(\"ezyZip.wav\")\n",
        "#signal = dataset[0][0]\n",
        "melspec = torchaudio.transforms.MelSpectrogram(\n",
        "    hop_length=160,\n",
        "    n_mels=80\n",
        ")(signal)\n",
        "logmelbanks = LogMelFilterBanks()(signal)\n",
        "\n",
        "assert torch.log(melspec + 1e-6).shape == logmelbanks.shape\n",
        "assert torch.allclose(torch.log(melspec + 1e-6), logmelbanks)"
      ]
    },
    {
      "cell_type": "code",
      "execution_count": 4,
      "metadata": {
        "colab": {
          "base_uri": "https://localhost:8080/"
        },
        "id": "DrKKbgvmir00",
        "outputId": "f330b05f-225e-455d-e407-f59cd9267427"
      },
      "outputs": [
        {
          "name": "stdout",
          "output_type": "stream",
          "text": [
            "tensor([[[-13.8155,  -5.3166,  -2.2109,  ...,  -7.8052,  -8.3567, -12.8381],\n",
            "         [-13.8155,  -4.0303,  -0.9245,  ...,  -6.5205,  -7.0733, -11.8695],\n",
            "         [-13.8155,  -4.0358,  -1.1171,  ...,  -6.3517,  -6.7032, -10.0962],\n",
            "         ...,\n",
            "         [-13.8155, -13.6870, -13.0101,  ..., -13.7074, -13.6397, -13.7750],\n",
            "         [-13.8155, -13.7313, -13.1908,  ..., -13.7311, -13.6358, -13.7288],\n",
            "         [-13.8155, -13.7645, -13.3459,  ..., -13.7481, -13.7027, -13.7004]],\n",
            "\n",
            "        [[-13.8155,  -5.2662,  -2.1626,  ..., -12.1977,  -8.6658, -10.1273],\n",
            "         [-13.8155,  -3.9798,  -0.8761,  ..., -11.0662,  -7.3836,  -8.8591],\n",
            "         [-13.8155,  -3.9869,  -1.0691,  ...,  -6.9062,  -8.1100,  -8.6181],\n",
            "         ...,\n",
            "         [-13.8155, -13.6813, -12.9052,  ..., -13.5859, -13.6149, -13.7316],\n",
            "         [-13.8155, -13.7345, -13.1898,  ..., -13.7326, -13.7371, -13.6934],\n",
            "         [-13.8155, -13.7639, -13.5534,  ..., -13.7604, -13.7296, -13.7048]]])\n",
            "tensor([[[-13.8155,  -5.3166,  -2.2109,  ...,  -7.8052,  -8.3567, -12.8381],\n",
            "         [-13.8155,  -4.0303,  -0.9245,  ...,  -6.5205,  -7.0733, -11.8695],\n",
            "         [-13.8155,  -4.0358,  -1.1171,  ...,  -6.3517,  -6.7032, -10.0962],\n",
            "         ...,\n",
            "         [-13.8155, -13.6870, -13.0101,  ..., -13.7074, -13.6397, -13.7750],\n",
            "         [-13.8155, -13.7313, -13.1908,  ..., -13.7311, -13.6358, -13.7288],\n",
            "         [-13.8155, -13.7645, -13.3459,  ..., -13.7481, -13.7027, -13.7004]],\n",
            "\n",
            "        [[-13.8155,  -5.2662,  -2.1626,  ..., -12.1977,  -8.6658, -10.1273],\n",
            "         [-13.8155,  -3.9798,  -0.8761,  ..., -11.0662,  -7.3836,  -8.8591],\n",
            "         [-13.8155,  -3.9869,  -1.0691,  ...,  -6.9062,  -8.1100,  -8.6181],\n",
            "         ...,\n",
            "         [-13.8155, -13.6813, -12.9052,  ..., -13.5859, -13.6149, -13.7316],\n",
            "         [-13.8155, -13.7345, -13.1898,  ..., -13.7326, -13.7371, -13.6934],\n",
            "         [-13.8155, -13.7639, -13.5534,  ..., -13.7604, -13.7296, -13.7048]]])\n"
          ]
        }
      ],
      "source": [
        "print(logmelbanks)\n",
        "print(torch.log(melspec + 1e-6))"
      ]
    },
    {
      "cell_type": "markdown",
      "metadata": {
        "id": "narI5m3jeeZ5"
      },
      "source": [
        "## Task 2"
      ]
    },
    {
      "cell_type": "markdown",
      "metadata": {
        "id": "UaWE6axjeh-n"
      },
      "source": [
        "### Dataset preproc"
      ]
    },
    {
      "cell_type": "code",
      "execution_count": 1,
      "metadata": {
        "colab": {
          "base_uri": "https://localhost:8080/"
        },
        "id": "8IgL-50afKac",
        "outputId": "d31c9c31-e587-4d9e-c698-626e2174e3f1"
      },
      "outputs": [
        {
          "name": "stdout",
          "output_type": "stream",
          "text": [
            "Waveform:  tensor([[0.0072, 0.0061, 0.0055,  ..., 0.0098, 0.0085, 0.0092]])\n",
            "label:  0\n"
          ]
        }
      ],
      "source": [
        "from torchaudio.datasets import SPEECHCOMMANDS\n",
        "import os\n",
        "from torch import Tensor\n",
        "from typing import Tuple\n",
        "import torchaudio\n",
        "\n",
        "class SubsetSC(SPEECHCOMMANDS):\n",
        "    def __init__(self, subset: str = None):\n",
        "        super().__init__(\"./\", download=True)\n",
        "\n",
        "        def load_list(filename):\n",
        "            filepath = os.path.join(self._path, filename)\n",
        "            with open(filepath) as fileobj:\n",
        "                return [os.path.normpath(os.path.join(self._path, line.strip())) for line in fileobj]\n",
        "\n",
        "        if subset == \"validation\":\n",
        "            self._walker = load_list(\"validation_list.txt\")\n",
        "        elif subset == \"testing\":\n",
        "            self._walker = load_list(\"testing_list.txt\")\n",
        "        elif subset == \"training\":\n",
        "            excludes = load_list(\"validation_list.txt\") + load_list(\"testing_list.txt\")\n",
        "            excludes = set(excludes)\n",
        "            self._walker = [w for w in self._walker if w not in excludes]\n",
        "\n",
        "        self._walker = [w for w in self._walker if os.path.basename(os.path.dirname(w)).lower() in [\"yes\", \"no\"]]\n",
        "\n",
        "    def __getitem__(self, n: int) -> Tuple[Tensor, int]:\n",
        "        waveform, _, label, _, _ = super().__getitem__(n)\n",
        "        binary_label = 1 if label.lower() == \"yes\" else 0\n",
        "\n",
        "        return waveform, binary_label\n",
        "\n",
        "train_set = SubsetSC(\"training\")\n",
        "test_set = SubsetSC(\"testing\")\n",
        "val_set = SubsetSC(\"validation\")\n",
        "\n",
        "waveform, label = train_set[0]\n",
        "print(\"Waveform: \", waveform)\n",
        "print(\"label: \", label)"
      ]
    },
    {
      "cell_type": "code",
      "execution_count": null,
      "metadata": {
        "colab": {
          "base_uri": "https://localhost:8080/"
        },
        "id": "-SNSFo2sgf3G",
        "outputId": "7bea8d8b-be1f-430b-a39b-29bd171b8d8a"
      },
      "outputs": [
        {
          "data": {
            "text/plain": [
              "[0, 1]"
            ]
          },
          "execution_count": 2,
          "metadata": {},
          "output_type": "execute_result"
        }
      ],
      "source": [
        "# check labels\n",
        "labels = sorted(list(set(datapoint[1] for datapoint in train_set)))\n",
        "labels"
      ]
    },
    {
      "cell_type": "code",
      "execution_count": 3,
      "metadata": {
        "id": "_AQu91AtgJzB"
      },
      "outputs": [],
      "source": [
        "new_sample_rate = 8000\n",
        "transform = torchaudio.transforms.Resample(orig_freq=16000, new_freq=new_sample_rate)\n",
        "transformed = transform(waveform)"
      ]
    },
    {
      "cell_type": "code",
      "execution_count": 4,
      "metadata": {
        "id": "JoRRSSnPfJ5O"
      },
      "outputs": [],
      "source": [
        "import torch\n",
        "\n",
        "def pad_sequence(batch):\n",
        "    batch = [item.t() for item in batch]\n",
        "    batch = torch.nn.utils.rnn.pad_sequence(batch, batch_first=True, padding_value=0.)\n",
        "    return batch.permute(0, 2, 1)\n",
        "\n",
        "\n",
        "def collate_fn(batch):\n",
        "    tensors, targets = [], []\n",
        "\n",
        "    for waveform, label in batch:\n",
        "        tensors += [waveform]\n",
        "        targets += [Tensor([label])]\n",
        "\n",
        "    tensors = pad_sequence(tensors)\n",
        "    targets = torch.stack(targets)\n",
        "\n",
        "    return tensors, targets\n",
        "\n",
        "\n",
        "batch_size = 256\n",
        "\n",
        "device = \"cuda\"\n",
        "\n",
        "num_workers = 1\n",
        "pin_memory = True\n",
        "\n",
        "train_loader = torch.utils.data.DataLoader(\n",
        "    train_set,\n",
        "    batch_size=batch_size,\n",
        "    shuffle=True,\n",
        "    collate_fn=collate_fn,\n",
        "    num_workers=num_workers,\n",
        "    pin_memory=pin_memory,\n",
        ")\n",
        "test_loader = torch.utils.data.DataLoader(\n",
        "    test_set,\n",
        "    batch_size=batch_size,\n",
        "    shuffle=False,\n",
        "    drop_last=False,\n",
        "    collate_fn=collate_fn,\n",
        "    num_workers=num_workers,\n",
        "    pin_memory=pin_memory,\n",
        ")\n",
        "val_loader = torch.utils.data.DataLoader(\n",
        "    val_set,\n",
        "    batch_size=batch_size,\n",
        "    shuffle=False,\n",
        "    drop_last=False,\n",
        "    collate_fn=collate_fn,\n",
        "    num_workers=num_workers,\n",
        "    pin_memory=pin_memory,\n",
        ")"
      ]
    },
    {
      "cell_type": "markdown",
      "metadata": {
        "id": "0qXJO7Qre2-P"
      },
      "source": [
        "### Model architecture"
      ]
    },
    {
      "cell_type": "code",
      "execution_count": 5,
      "metadata": {
        "id": "BFPgkBJYjJ2R"
      },
      "outputs": [],
      "source": [
        "#!pip install ptflops"
      ]
    },
    {
      "cell_type": "code",
      "execution_count": 6,
      "metadata": {
        "colab": {
          "base_uri": "https://localhost:8080/"
        },
        "id": "T9ZCJTu7gj2b",
        "outputId": "06547d8b-a8f3-47c6-e383-b67544525f83"
      },
      "outputs": [
        {
          "name": "stdout",
          "output_type": "stream",
          "text": [
            "M5(\n",
            "  (logmel): LogMelFilterBanks()\n",
            "  (conv1): Conv1d(80, 32, kernel_size=(3,), stride=(1,), padding=(1,))\n",
            "  (bn1): BatchNorm1d(32, eps=1e-05, momentum=0.1, affine=True, track_running_stats=True)\n",
            "  (pool1): MaxPool1d(kernel_size=2, stride=2, padding=0, dilation=1, ceil_mode=False)\n",
            "  (conv2): Conv1d(32, 32, kernel_size=(3,), stride=(1,))\n",
            "  (bn2): BatchNorm1d(32, eps=1e-05, momentum=0.1, affine=True, track_running_stats=True)\n",
            "  (pool2): MaxPool1d(kernel_size=2, stride=2, padding=0, dilation=1, ceil_mode=False)\n",
            "  (conv3): Conv1d(32, 64, kernel_size=(3,), stride=(1,))\n",
            "  (bn3): BatchNorm1d(64, eps=1e-05, momentum=0.1, affine=True, track_running_stats=True)\n",
            "  (pool3): MaxPool1d(kernel_size=2, stride=2, padding=0, dilation=1, ceil_mode=False)\n",
            "  (conv4): Conv1d(64, 64, kernel_size=(3,), stride=(1,))\n",
            "  (bn4): BatchNorm1d(64, eps=1e-05, momentum=0.1, affine=True, track_running_stats=True)\n",
            "  (pool4): MaxPool1d(kernel_size=2, stride=2, padding=0, dilation=1, ceil_mode=False)\n",
            "  (fc1): Linear(in_features=64, out_features=1, bias=True)\n",
            ")\n",
            "Number of parameters: 29825\n",
            "FLOPs: 2.83 MMac Params: 29.82 k\n"
          ]
        }
      ],
      "source": [
        "from torch import nn\n",
        "import torch.nn.functional as F\n",
        "from ptflops import get_model_complexity_info\n",
        "from melbanks import LogMelFilterBanks\n",
        "\n",
        "\n",
        "class M5(nn.Module):\n",
        "    def __init__(self, n_input=1, n_output=35, stride=16, n_channel=32, n_mels=80, groups=1):\n",
        "        super().__init__()\n",
        "        self.logmel = LogMelFilterBanks(n_mels=n_mels)\n",
        "        self.conv1 = nn.Conv1d(n_mels, n_channel, kernel_size=3, padding=1, groups=groups)\n",
        "        self.bn1 = nn.BatchNorm1d(n_channel)\n",
        "        self.pool1 = nn.MaxPool1d(2)\n",
        "        self.conv2 = nn.Conv1d(n_channel, n_channel, kernel_size=3, groups=groups)\n",
        "        self.bn2 = nn.BatchNorm1d(n_channel)\n",
        "        self.pool2 = nn.MaxPool1d(2)\n",
        "        self.conv3 = nn.Conv1d(n_channel, 2 * n_channel, kernel_size=3, groups=groups)\n",
        "        self.bn3 = nn.BatchNorm1d(2 * n_channel)\n",
        "        self.pool3 = nn.MaxPool1d(2)\n",
        "        self.conv4 = nn.Conv1d(2 * n_channel, 2 * n_channel, kernel_size=3, groups=groups)\n",
        "        self.bn4 = nn.BatchNorm1d(2 * n_channel)\n",
        "        self.pool4 = nn.MaxPool1d(2)\n",
        "        self.fc1 = nn.Linear(2 * n_channel, 1)\n",
        "\n",
        "    def forward(self, x):\n",
        "        x = self.logmel(x)\n",
        "        x = self.conv1(x)\n",
        "        x = F.relu(self.bn1(x))\n",
        "        x = self.pool1(x)\n",
        "        x = self.conv2(x)\n",
        "        x = F.relu(self.bn2(x))\n",
        "        x = self.pool2(x)\n",
        "        x = self.conv3(x)\n",
        "        x = F.relu(self.bn3(x))\n",
        "        x = self.pool3(x)\n",
        "        x = self.conv4(x)\n",
        "        x = F.relu(self.bn4(x))\n",
        "        x = self.pool4(x)\n",
        "        x = F.avg_pool1d(x, x.shape[-1])\n",
        "        x = x.permute(0, 2, 1)\n",
        "        x = self.fc1(x)\n",
        "        return x\n",
        "\n",
        "    def compute_flops(self, input_size):\n",
        "        macs, params = get_model_complexity_info(self, input_size, as_strings=True, print_per_layer_stat=False)\n",
        "        return macs, params\n",
        "\n",
        "\n",
        "model = M5(n_input=transformed.shape[0], n_output=len(labels))\n",
        "model.to(device)\n",
        "print(model)\n",
        "\n",
        "\n",
        "def count_parameters(model):\n",
        "    return sum(p.numel() for p in model.parameters() if p.requires_grad)\n",
        "\n",
        "\n",
        "n = count_parameters(model)\n",
        "print(\"Number of parameters: %s\" % n)\n",
        "flops, params_str = model.compute_flops((1, 16000))\n",
        "print(\"FLOPs:\", flops, \"Params:\", params_str)"
      ]
    },
    {
      "cell_type": "code",
      "execution_count": 7,
      "metadata": {
        "colab": {
          "base_uri": "https://localhost:8080/"
        },
        "id": "jy6y1SzilZ82",
        "outputId": "44009b69-4fec-4981-faa1-a03daa730860"
      },
      "outputs": [
        {
          "data": {
            "text/plain": [
              "torch.Size([1, 8000])"
            ]
          },
          "execution_count": 7,
          "metadata": {},
          "output_type": "execute_result"
        }
      ],
      "source": [
        "transformed.shape"
      ]
    },
    {
      "cell_type": "code",
      "execution_count": 7,
      "metadata": {
        "id": "bO4qy240htno"
      },
      "outputs": [],
      "source": [
        "from tqdm import tqdm\n",
        "\n",
        "def train(model, train_loader, optimizer, device=\"cuda\"):\n",
        "    model.train()\n",
        "    loss_fn = nn.BCEWithLogitsLoss()\n",
        "    running_loss = .0\n",
        "    for input, target in tqdm(train_loader, desc=\"Train\"):\n",
        "        input = input.to(device)\n",
        "        target = target.to(device)\n",
        "        optimizer.zero_grad()\n",
        "        output = model(input)\n",
        "        loss = loss_fn(output.squeeze(1), target.float())\n",
        "        running_loss += loss.item() * input.size(0)\n",
        "        loss.backward()\n",
        "        optimizer.step()\n",
        "    avg_loss =  running_loss / len(train_loader.dataset)\n",
        "    return avg_loss"
      ]
    },
    {
      "cell_type": "code",
      "execution_count": 8,
      "metadata": {
        "id": "gUDZ82o3z5j4"
      },
      "outputs": [],
      "source": [
        "def validate(model, val_loader, device=\"cuda\"):\n",
        "    model.eval()\n",
        "    loss_fn = nn.BCEWithLogitsLoss()\n",
        "    running_loss = .0\n",
        "    cor_preds = 0\n",
        "    with torch.no_grad():\n",
        "        for input, target in tqdm(val_loader, desc=\"Eval\"):\n",
        "            input = input.to(device)\n",
        "            target = target.to(device)\n",
        "            output = model(input)\n",
        "            loss = loss_fn(output.squeeze(1), target.float())\n",
        "            running_loss += loss.item() * input.size(0)\n",
        "            preds = torch.sigmoid(output.squeeze(1)) >= 0.5\n",
        "            cor_preds += (preds == target).sum().item()\n",
        "    avg_loss = running_loss / len(val_loader.dataset)\n",
        "    accuracy = cor_preds / len(val_loader.dataset)\n",
        "    return avg_loss, accuracy"
      ]
    },
    {
      "cell_type": "code",
      "execution_count": 9,
      "metadata": {
        "id": "8xfD8_jk1mOa"
      },
      "outputs": [],
      "source": [
        "def test(model, test_loader, device=\"cuda\"):\n",
        "    model.eval()\n",
        "    cor_preds = 0\n",
        "    with torch.no_grad():\n",
        "        for input, target in tqdm(test_loader, desc=\"Test\"):\n",
        "            input = input.to(device)\n",
        "            target = target.to(device)\n",
        "            outputs = model(input)\n",
        "            preds = torch.sigmoid(outputs.squeeze(1)) >= 0.5\n",
        "            cor_preds += (preds == target).sum().item()\n",
        "    accuracy = cor_preds / len(test_loader.dataset)\n",
        "    return accuracy"
      ]
    },
    {
      "cell_type": "code",
      "execution_count": 15,
      "metadata": {
        "id": "oQrrc1Hd2LnO"
      },
      "outputs": [],
      "source": [
        "import time\n",
        "\n",
        "import torch\n",
        "torch.manual_seed(0)\n",
        "\n",
        "def run_train(n_mels, groups=1, epochs=10):\n",
        "    model = M5(n_input=transformed.shape[0], n_output=len(labels), n_mels=n_mels, groups=groups)\n",
        "    model.to(device)\n",
        "\n",
        "    n = count_parameters(model)\n",
        "    print(\"Number of parameters: %s\" % n)\n",
        "    flops, params_str = model.compute_flops((1, 16000))\n",
        "    print(\"FLOPs:\", flops, \"Params:\", params_str)\n",
        "\n",
        "    from torch import optim\n",
        "    optimizer = optim.Adam(model.parameters(), lr=0.003, weight_decay=0.0001)\n",
        "    scheduler = optim.lr_scheduler.StepLR(optimizer, step_size=20, gamma=0.1)\n",
        "\n",
        "    train_hist = {\n",
        "        \"train_loss\": []\n",
        "    }\n",
        "    val_hist = {\n",
        "        \"val_loss\": [],\n",
        "        \"val_acc\": []\n",
        "    }\n",
        "    epoch_times = []\n",
        "    for epoch in range(1, epochs + 1):\n",
        "        start = time.time()\n",
        "        train_loss = train(model, train_loader, optimizer)\n",
        "        epoch_times.append(time.time() - start)\n",
        "        val_loss, val_acc = validate(model, val_loader)\n",
        "\n",
        "        train_hist[\"train_loss\"].append(train_loss)\n",
        "        val_hist[\"val_loss\"].append(val_loss)\n",
        "        val_hist[\"val_acc\"].append(val_acc)\n",
        "\n",
        "        print(f\"Epoch - {epoch}/{epochs} - Train Loss: {train_loss} - Val Loss: {val_loss} - Val Acc.: {val_acc}\")\n",
        "\n",
        "    avg_epoch_time = sum(epoch_times) / len(epoch_times)\n",
        "    test_acc = test(model, test_loader)\n",
        "    print(f\"Test Acc.: {test_acc}\")\n",
        "\n",
        "    return {\n",
        "        \"model\": model,\n",
        "        \"train_hist\": train_hist,\n",
        "        \"val_hist\": val_hist,\n",
        "        \"test_acc\": test_acc,\n",
        "        \"n_mels\": n_mels,\n",
        "        \"n_params\": n,\n",
        "        \"flops\": flops,\n",
        "        \"avg_epoch_time\": avg_epoch_time,\n",
        "        \"groups\": groups\n",
        "    }"
      ]
    },
    {
      "cell_type": "code",
      "execution_count": null,
      "metadata": {
        "colab": {
          "base_uri": "https://localhost:8080/"
        },
        "id": "Fp8o0onv4XHH",
        "outputId": "7ce8275b-b97e-482d-8751-0e3daa72f35f"
      },
      "outputs": [
        {
          "name": "stdout",
          "output_type": "stream",
          "text": [
            "Number of parameters: 24065\n",
            "FLOPs: 1.03 MMac Params: 24.07 k\n"
          ]
        },
        {
          "name": "stderr",
          "output_type": "stream",
          "text": [
            "Train: 100%|██████████| 25/25 [00:19<00:00,  1.29it/s]\n",
            "Eval: 100%|██████████| 4/4 [00:02<00:00,  1.61it/s]\n"
          ]
        },
        {
          "name": "stdout",
          "output_type": "stream",
          "text": [
            "Epoch - 1/10 - Train Loss: 0.22877863496916967 - Val Loss: 0.13116751047104114 - Val Acc.: 0.9713574097135741\n"
          ]
        },
        {
          "name": "stderr",
          "output_type": "stream",
          "text": [
            "Train: 100%|██████████| 25/25 [00:19<00:00,  1.29it/s]\n",
            "Eval: 100%|██████████| 4/4 [00:02<00:00,  1.56it/s]\n"
          ]
        },
        {
          "name": "stdout",
          "output_type": "stream",
          "text": [
            "Epoch - 2/10 - Train Loss: 0.09193936465281703 - Val Loss: 0.09509703135848564 - Val Acc.: 0.9539227895392279\n"
          ]
        },
        {
          "name": "stderr",
          "output_type": "stream",
          "text": [
            "Train: 100%|██████████| 25/25 [00:19<00:00,  1.28it/s]\n",
            "Eval: 100%|██████████| 4/4 [00:02<00:00,  1.60it/s]\n"
          ]
        },
        {
          "name": "stdout",
          "output_type": "stream",
          "text": [
            "Epoch - 3/10 - Train Loss: 0.06050841726852536 - Val Loss: 0.04164566529235092 - Val Acc.: 0.9900373599003736\n"
          ]
        },
        {
          "name": "stderr",
          "output_type": "stream",
          "text": [
            "Train: 100%|██████████| 25/25 [00:19<00:00,  1.28it/s]\n",
            "Eval: 100%|██████████| 4/4 [00:02<00:00,  1.61it/s]\n"
          ]
        },
        {
          "name": "stdout",
          "output_type": "stream",
          "text": [
            "Epoch - 4/10 - Train Loss: 0.03980953576814907 - Val Loss: 0.05786045431014461 - Val Acc.: 0.9813200498132005\n"
          ]
        },
        {
          "name": "stderr",
          "output_type": "stream",
          "text": [
            "Train: 100%|██████████| 25/25 [00:19<00:00,  1.27it/s]\n",
            "Eval: 100%|██████████| 4/4 [00:02<00:00,  1.60it/s]\n"
          ]
        },
        {
          "name": "stdout",
          "output_type": "stream",
          "text": [
            "Epoch - 5/10 - Train Loss: 0.03186584100685018 - Val Loss: 0.05367207857704771 - Val Acc.: 0.9825653798256538\n"
          ]
        },
        {
          "name": "stderr",
          "output_type": "stream",
          "text": [
            "Train: 100%|██████████| 25/25 [00:19<00:00,  1.29it/s]\n",
            "Eval: 100%|██████████| 4/4 [00:02<00:00,  1.60it/s]\n"
          ]
        },
        {
          "name": "stdout",
          "output_type": "stream",
          "text": [
            "Epoch - 6/10 - Train Loss: 0.028656283097611767 - Val Loss: 0.06990799710782568 - Val Acc.: 0.975093399750934\n"
          ]
        },
        {
          "name": "stderr",
          "output_type": "stream",
          "text": [
            "Train: 100%|██████████| 25/25 [00:19<00:00,  1.30it/s]\n",
            "Eval: 100%|██████████| 4/4 [00:02<00:00,  1.60it/s]\n"
          ]
        },
        {
          "name": "stdout",
          "output_type": "stream",
          "text": [
            "Epoch - 7/10 - Train Loss: 0.02491361582924188 - Val Loss: 0.048260711370080075 - Val Acc.: 0.9763387297633873\n"
          ]
        },
        {
          "name": "stderr",
          "output_type": "stream",
          "text": [
            "Train: 100%|██████████| 25/25 [00:19<00:00,  1.29it/s]\n",
            "Eval: 100%|██████████| 4/4 [00:02<00:00,  1.60it/s]\n"
          ]
        },
        {
          "name": "stdout",
          "output_type": "stream",
          "text": [
            "Epoch - 8/10 - Train Loss: 0.02252377706370983 - Val Loss: 0.03308650317072989 - Val Acc.: 0.987546699875467\n"
          ]
        },
        {
          "name": "stderr",
          "output_type": "stream",
          "text": [
            "Train: 100%|██████████| 25/25 [00:19<00:00,  1.29it/s]\n",
            "Eval: 100%|██████████| 4/4 [00:02<00:00,  1.62it/s]\n"
          ]
        },
        {
          "name": "stdout",
          "output_type": "stream",
          "text": [
            "Epoch - 9/10 - Train Loss: 0.017056398515564047 - Val Loss: 0.03436094596239728 - Val Acc.: 0.987546699875467\n"
          ]
        },
        {
          "name": "stderr",
          "output_type": "stream",
          "text": [
            "Train: 100%|██████████| 25/25 [00:19<00:00,  1.28it/s]\n",
            "Eval: 100%|██████████| 4/4 [00:02<00:00,  1.61it/s]\n"
          ]
        },
        {
          "name": "stdout",
          "output_type": "stream",
          "text": [
            "Epoch - 10/10 - Train Loss: 0.01877720940233533 - Val Loss: 0.04437628235915997 - Val Acc.: 0.9825653798256538\n"
          ]
        },
        {
          "name": "stderr",
          "output_type": "stream",
          "text": [
            "Test: 100%|██████████| 4/4 [00:02<00:00,  1.56it/s]"
          ]
        },
        {
          "name": "stdout",
          "output_type": "stream",
          "text": [
            "Test Acc.: 0.9842233009708737\n"
          ]
        },
        {
          "name": "stderr",
          "output_type": "stream",
          "text": [
            "\n"
          ]
        }
      ],
      "source": [
        "exp_1 = run_train(20)"
      ]
    },
    {
      "cell_type": "code",
      "execution_count": 17,
      "metadata": {
        "colab": {
          "base_uri": "https://localhost:8080/"
        },
        "id": "qHHHs3a69oPC",
        "outputId": "c7fb72a9-1dd1-4848-fcdb-055c408ce4ff"
      },
      "outputs": [
        {
          "name": "stdout",
          "output_type": "stream",
          "text": [
            "Number of parameters: 25985\n",
            "FLOPs: 1.63 MMac Params: 25.98 k\n"
          ]
        },
        {
          "name": "stderr",
          "output_type": "stream",
          "text": [
            "Train: 100%|██████████| 25/25 [00:19<00:00,  1.31it/s]\n",
            "Eval: 100%|██████████| 4/4 [00:02<00:00,  1.63it/s]\n"
          ]
        },
        {
          "name": "stdout",
          "output_type": "stream",
          "text": [
            "Epoch - 1/10 - Train Loss: 0.21424884899405422 - Val Loss: 0.10819872876960937 - Val Acc.: 0.975093399750934\n"
          ]
        },
        {
          "name": "stderr",
          "output_type": "stream",
          "text": [
            "Train: 100%|██████████| 25/25 [00:19<00:00,  1.30it/s]\n",
            "Eval: 100%|██████████| 4/4 [00:02<00:00,  1.61it/s]\n"
          ]
        },
        {
          "name": "stdout",
          "output_type": "stream",
          "text": [
            "Epoch - 2/10 - Train Loss: 0.08159658694232587 - Val Loss: 0.08371914281123602 - Val Acc.: 0.9813200498132005\n"
          ]
        },
        {
          "name": "stderr",
          "output_type": "stream",
          "text": [
            "Train: 100%|██████████| 25/25 [00:19<00:00,  1.28it/s]\n",
            "Eval: 100%|██████████| 4/4 [00:02<00:00,  1.62it/s]\n"
          ]
        },
        {
          "name": "stdout",
          "output_type": "stream",
          "text": [
            "Epoch - 3/10 - Train Loss: 0.06000226074563103 - Val Loss: 0.0591567907746821 - Val Acc.: 0.9825653798256538\n"
          ]
        },
        {
          "name": "stderr",
          "output_type": "stream",
          "text": [
            "Train: 100%|██████████| 25/25 [00:19<00:00,  1.30it/s]\n",
            "Eval: 100%|██████████| 4/4 [00:02<00:00,  1.61it/s]\n"
          ]
        },
        {
          "name": "stdout",
          "output_type": "stream",
          "text": [
            "Epoch - 4/10 - Train Loss: 0.04459466481919407 - Val Loss: 0.05551245723123828 - Val Acc.: 0.9800747198007472\n"
          ]
        },
        {
          "name": "stderr",
          "output_type": "stream",
          "text": [
            "Train: 100%|██████████| 25/25 [00:19<00:00,  1.29it/s]\n",
            "Eval: 100%|██████████| 4/4 [00:02<00:00,  1.61it/s]\n"
          ]
        },
        {
          "name": "stdout",
          "output_type": "stream",
          "text": [
            "Epoch - 5/10 - Train Loss: 0.03840089074683737 - Val Loss: 0.067534629635369 - Val Acc.: 0.9788293897882939\n"
          ]
        },
        {
          "name": "stderr",
          "output_type": "stream",
          "text": [
            "Train: 100%|██████████| 25/25 [00:19<00:00,  1.30it/s]\n",
            "Eval: 100%|██████████| 4/4 [00:02<00:00,  1.63it/s]\n"
          ]
        },
        {
          "name": "stdout",
          "output_type": "stream",
          "text": [
            "Epoch - 6/10 - Train Loss: 0.03326211601833234 - Val Loss: 0.055562340652113164 - Val Acc.: 0.9825653798256538\n"
          ]
        },
        {
          "name": "stderr",
          "output_type": "stream",
          "text": [
            "Train: 100%|██████████| 25/25 [00:24<00:00,  1.03it/s]\n",
            "Eval: 100%|██████████| 4/4 [00:02<00:00,  1.61it/s]\n"
          ]
        },
        {
          "name": "stdout",
          "output_type": "stream",
          "text": [
            "Epoch - 7/10 - Train Loss: 0.029999232563574233 - Val Loss: 0.07636328881700984 - Val Acc.: 0.9713574097135741\n"
          ]
        },
        {
          "name": "stderr",
          "output_type": "stream",
          "text": [
            "Train: 100%|██████████| 25/25 [00:26<00:00,  1.07s/it]\n",
            "Eval: 100%|██████████| 4/4 [00:03<00:00,  1.14it/s]\n"
          ]
        },
        {
          "name": "stdout",
          "output_type": "stream",
          "text": [
            "Epoch - 8/10 - Train Loss: 0.030587515541501447 - Val Loss: 0.03880219406924984 - Val Acc.: 0.9850560398505604\n"
          ]
        },
        {
          "name": "stderr",
          "output_type": "stream",
          "text": [
            "Train: 100%|██████████| 25/25 [00:26<00:00,  1.07s/it]\n",
            "Eval: 100%|██████████| 4/4 [00:03<00:00,  1.20it/s]\n"
          ]
        },
        {
          "name": "stdout",
          "output_type": "stream",
          "text": [
            "Epoch - 9/10 - Train Loss: 0.023518176097217767 - Val Loss: 0.038090314264936954 - Val Acc.: 0.987546699875467\n"
          ]
        },
        {
          "name": "stderr",
          "output_type": "stream",
          "text": [
            "Train: 100%|██████████| 25/25 [00:27<00:00,  1.11s/it]\n",
            "Eval: 100%|██████████| 4/4 [00:03<00:00,  1.22it/s]\n"
          ]
        },
        {
          "name": "stdout",
          "output_type": "stream",
          "text": [
            "Epoch - 10/10 - Train Loss: 0.020384273703610532 - Val Loss: 0.03597733531968383 - Val Acc.: 0.987546699875467\n"
          ]
        },
        {
          "name": "stderr",
          "output_type": "stream",
          "text": [
            "Test: 100%|██████████| 4/4 [00:03<00:00,  1.10it/s]"
          ]
        },
        {
          "name": "stdout",
          "output_type": "stream",
          "text": [
            "Test Acc.: 0.9854368932038835\n"
          ]
        },
        {
          "name": "stderr",
          "output_type": "stream",
          "text": [
            "\n"
          ]
        }
      ],
      "source": [
        "exp_2 = run_train(40)"
      ]
    },
    {
      "cell_type": "code",
      "execution_count": 18,
      "metadata": {
        "colab": {
          "base_uri": "https://localhost:8080/"
        },
        "id": "ulhPMgyr9oVw",
        "outputId": "275222cd-a454-4304-ed77-d7aab9cfa6d8"
      },
      "outputs": [
        {
          "name": "stdout",
          "output_type": "stream",
          "text": [
            "Number of parameters: 29825\n",
            "FLOPs: 2.83 MMac Params: 29.82 k\n"
          ]
        },
        {
          "name": "stderr",
          "output_type": "stream",
          "text": [
            "Train: 100%|██████████| 25/25 [00:27<00:00,  1.10s/it]\n",
            "Eval: 100%|██████████| 4/4 [00:03<00:00,  1.14it/s]\n"
          ]
        },
        {
          "name": "stdout",
          "output_type": "stream",
          "text": [
            "Epoch - 1/10 - Train Loss: 0.22345491548394886 - Val Loss: 0.10471234961434883 - Val Acc.: 0.9613947696139477\n"
          ]
        },
        {
          "name": "stderr",
          "output_type": "stream",
          "text": [
            "Train: 100%|██████████| 25/25 [00:21<00:00,  1.18it/s]\n",
            "Eval: 100%|██████████| 4/4 [00:02<00:00,  1.57it/s]\n"
          ]
        },
        {
          "name": "stdout",
          "output_type": "stream",
          "text": [
            "Epoch - 2/10 - Train Loss: 0.07813640386123971 - Val Loss: 0.07788322273999045 - Val Acc.: 0.9676214196762142\n"
          ]
        },
        {
          "name": "stderr",
          "output_type": "stream",
          "text": [
            "Train: 100%|██████████| 25/25 [00:19<00:00,  1.25it/s]\n",
            "Eval: 100%|██████████| 4/4 [00:02<00:00,  1.60it/s]\n"
          ]
        },
        {
          "name": "stdout",
          "output_type": "stream",
          "text": [
            "Epoch - 3/10 - Train Loss: 0.05179951576555289 - Val Loss: 0.0701929963139323 - Val Acc.: 0.9726027397260274\n"
          ]
        },
        {
          "name": "stderr",
          "output_type": "stream",
          "text": [
            "Train: 100%|██████████| 25/25 [00:19<00:00,  1.26it/s]\n",
            "Eval: 100%|██████████| 4/4 [00:02<00:00,  1.55it/s]\n"
          ]
        },
        {
          "name": "stdout",
          "output_type": "stream",
          "text": [
            "Epoch - 4/10 - Train Loss: 0.045003425100242314 - Val Loss: 0.05371614158673126 - Val Acc.: 0.9825653798256538\n"
          ]
        },
        {
          "name": "stderr",
          "output_type": "stream",
          "text": [
            "Train: 100%|██████████| 25/25 [00:19<00:00,  1.28it/s]\n",
            "Eval: 100%|██████████| 4/4 [00:02<00:00,  1.58it/s]\n"
          ]
        },
        {
          "name": "stdout",
          "output_type": "stream",
          "text": [
            "Epoch - 5/10 - Train Loss: 0.04257201722706778 - Val Loss: 0.08140795616430704 - Val Acc.: 0.9738480697384807\n"
          ]
        },
        {
          "name": "stderr",
          "output_type": "stream",
          "text": [
            "Train: 100%|██████████| 25/25 [00:19<00:00,  1.26it/s]\n",
            "Eval: 100%|██████████| 4/4 [00:02<00:00,  1.43it/s]\n"
          ]
        },
        {
          "name": "stdout",
          "output_type": "stream",
          "text": [
            "Epoch - 6/10 - Train Loss: 0.0386845622089823 - Val Loss: 0.05403345302420008 - Val Acc.: 0.9800747198007472\n"
          ]
        },
        {
          "name": "stderr",
          "output_type": "stream",
          "text": [
            "Train: 100%|██████████| 25/25 [00:19<00:00,  1.26it/s]\n",
            "Eval: 100%|██████████| 4/4 [00:02<00:00,  1.61it/s]\n"
          ]
        },
        {
          "name": "stdout",
          "output_type": "stream",
          "text": [
            "Epoch - 7/10 - Train Loss: 0.029234161281143204 - Val Loss: 0.1350196167576715 - Val Acc.: 0.9551681195516812\n"
          ]
        },
        {
          "name": "stderr",
          "output_type": "stream",
          "text": [
            "Train: 100%|██████████| 25/25 [00:19<00:00,  1.28it/s]\n",
            "Eval: 100%|██████████| 4/4 [00:02<00:00,  1.58it/s]\n"
          ]
        },
        {
          "name": "stdout",
          "output_type": "stream",
          "text": [
            "Epoch - 8/10 - Train Loss: 0.026559250761490266 - Val Loss: 0.03671130524996951 - Val Acc.: 0.9925280199252802\n"
          ]
        },
        {
          "name": "stderr",
          "output_type": "stream",
          "text": [
            "Train: 100%|██████████| 25/25 [00:19<00:00,  1.28it/s]\n",
            "Eval: 100%|██████████| 4/4 [00:02<00:00,  1.59it/s]\n"
          ]
        },
        {
          "name": "stdout",
          "output_type": "stream",
          "text": [
            "Epoch - 9/10 - Train Loss: 0.023802110314200455 - Val Loss: 0.036038254365060536 - Val Acc.: 0.987546699875467\n"
          ]
        },
        {
          "name": "stderr",
          "output_type": "stream",
          "text": [
            "Train: 100%|██████████| 25/25 [00:19<00:00,  1.27it/s]\n",
            "Eval: 100%|██████████| 4/4 [00:02<00:00,  1.58it/s]\n"
          ]
        },
        {
          "name": "stdout",
          "output_type": "stream",
          "text": [
            "Epoch - 10/10 - Train Loss: 0.02472470793550815 - Val Loss: 0.04588264100494821 - Val Acc.: 0.9825653798256538\n"
          ]
        },
        {
          "name": "stderr",
          "output_type": "stream",
          "text": [
            "Test: 100%|██████████| 4/4 [00:02<00:00,  1.53it/s]"
          ]
        },
        {
          "name": "stdout",
          "output_type": "stream",
          "text": [
            "Test Acc.: 0.9830097087378641\n"
          ]
        },
        {
          "name": "stderr",
          "output_type": "stream",
          "text": [
            "\n"
          ]
        }
      ],
      "source": [
        "exp_3 = run_train(80)"
      ]
    },
    {
      "cell_type": "code",
      "execution_count": 33,
      "metadata": {
        "colab": {
          "base_uri": "https://localhost:8080/"
        },
        "id": "OuvlitenD7F0",
        "outputId": "a033c0ed-a339-45ce-eaf3-b43879527cb6"
      },
      "outputs": [
        {
          "data": {
            "text/plain": [
              "{'model': M5(\n",
              "   (logmel): LogMelFilterBanks()\n",
              "   (conv1): Conv1d(20, 32, kernel_size=(3,), stride=(1,), padding=(1,))\n",
              "   (bn1): BatchNorm1d(32, eps=1e-05, momentum=0.1, affine=True, track_running_stats=True)\n",
              "   (pool1): MaxPool1d(kernel_size=2, stride=2, padding=0, dilation=1, ceil_mode=False)\n",
              "   (conv2): Conv1d(32, 32, kernel_size=(3,), stride=(1,))\n",
              "   (bn2): BatchNorm1d(32, eps=1e-05, momentum=0.1, affine=True, track_running_stats=True)\n",
              "   (pool2): MaxPool1d(kernel_size=2, stride=2, padding=0, dilation=1, ceil_mode=False)\n",
              "   (conv3): Conv1d(32, 64, kernel_size=(3,), stride=(1,))\n",
              "   (bn3): BatchNorm1d(64, eps=1e-05, momentum=0.1, affine=True, track_running_stats=True)\n",
              "   (pool3): MaxPool1d(kernel_size=2, stride=2, padding=0, dilation=1, ceil_mode=False)\n",
              "   (conv4): Conv1d(64, 64, kernel_size=(3,), stride=(1,))\n",
              "   (bn4): BatchNorm1d(64, eps=1e-05, momentum=0.1, affine=True, track_running_stats=True)\n",
              "   (pool4): MaxPool1d(kernel_size=2, stride=2, padding=0, dilation=1, ceil_mode=False)\n",
              "   (fc1): Linear(in_features=64, out_features=1, bias=True)\n",
              " ),\n",
              " 'train_hist': {'train_loss': [0.19739494762890517,\n",
              "   0.07395811117634754,\n",
              "   0.05631449477135966,\n",
              "   0.043082657610846974,\n",
              "   0.03610507410620792,\n",
              "   0.03358410194354468,\n",
              "   0.03469568701210769,\n",
              "   0.04220045370129753,\n",
              "   0.025563119649043356,\n",
              "   0.028253450823028475]},\n",
              " 'val_hist': {'val_loss': [0.06899428379676707,\n",
              "   0.0684761029806169,\n",
              "   0.0481301079556963,\n",
              "   0.07987096011600947,\n",
              "   0.039014183539940114,\n",
              "   0.05265550897565437,\n",
              "   0.09036065584714356,\n",
              "   0.10165612122877866,\n",
              "   0.04155918351950989,\n",
              "   0.030777715281078855],\n",
              "  'val_acc': [0.9825653798256538,\n",
              "   0.9763387297633873,\n",
              "   0.9850560398505604,\n",
              "   0.9775840597758406,\n",
              "   0.9912826899128269,\n",
              "   0.9838107098381071,\n",
              "   0.9701120797011208,\n",
              "   0.962640099626401,\n",
              "   0.9863013698630136,\n",
              "   0.9900373599003736]},\n",
              " 'test_acc': 0.9866504854368932,\n",
              " 'n_mels': 20,\n",
              " 'n_params': 24065,\n",
              " 'flops': '1.03 MMac',\n",
              " 'avg_epoch_time': 21.58633873462677,\n",
              " 'groups': 1}"
            ]
          },
          "execution_count": 33,
          "metadata": {},
          "output_type": "execute_result"
        }
      ],
      "source": [
        "exp_1"
      ]
    },
    {
      "cell_type": "code",
      "execution_count": 23,
      "metadata": {
        "id": "NHE3ICr9_sz0"
      },
      "outputs": [
        {
          "data": {
            "image/png": "[encoded data removed]",
            "text/plain": [
              "<Figure size 2000x1200 with 3 Axes>"
            ]
          },
          "metadata": {},
          "output_type": "display_data"
        }
      ],
      "source": [
        "import matplotlib.pyplot as plt\n",
        "\n",
        "#plt.figure(figsize=(20, 12), dpi=80)\n",
        "\n",
        "fig, (ax1, ax2, ax3) = plt.subplots(3, 1, figsize=(20, 12))\n",
        "fig.suptitle(\"N Mels Experiments\")\n",
        "\n",
        "mels2color = {\n",
        "    20: \"r\",\n",
        "    40: \"g\",\n",
        "    80: \"b\"\n",
        "}\n",
        "\n",
        "for exp in [exp_1, exp_2, exp_3]:\n",
        "    n_mels = exp[\"n_mels\"]\n",
        "    ax1.plot(list(range(10)), exp[\"train_hist\"][\"train_loss\"], mels2color[n_mels], label=f\"N Mels = {n_mels}\")\n",
        "ax1.set_xlabel(\"Epoch\")\n",
        "ax1.set_ylabel(\"Train Loss\")\n",
        "\n",
        "for exp in [exp_1, exp_2, exp_3]:\n",
        "    n_mels = exp[\"n_mels\"]\n",
        "    ax2.plot(list(range(10)), exp[\"val_hist\"][\"val_loss\"], mels2color[n_mels], label=f\"N Mels = {n_mels}\")\n",
        "ax2.set_xlabel(\"Epoch\")\n",
        "ax2.set_ylabel(\"Validation Loss\")\n",
        "\n",
        "for exp in [exp_1, exp_2, exp_3]:\n",
        "    n_mels = exp[\"n_mels\"]\n",
        "    ax3.plot(list(range(10)), exp[\"val_hist\"][\"val_acc\"], mels2color[n_mels], label=f\"N Mels = {n_mels}\")\n",
        "ax3.set_xlabel(\"Epoch\")\n",
        "ax3.set_ylabel(\"Validation Acc.\")\n",
        "\n",
        "\n",
        "\n",
        "plt.legend()\n",
        "plt.show()"
      ]
    },
    {
      "cell_type": "code",
      "execution_count": 28,
      "metadata": {
        "colab": {
          "base_uri": "https://localhost:8080/",
          "height": 211
        },
        "id": "KPMfaMlLDuLF",
        "outputId": "3712f8f5-deca-406f-fb94-d8a2f2f7c1a6"
      },
      "outputs": [
        {
          "data": {
            "text/plain": [
              "Text(0.5, 1.0, 'N Mels vs Test Acc.')"
            ]
          },
          "execution_count": 28,
          "metadata": {},
          "output_type": "execute_result"
        },
        {
          "data": {
            "image/png": "[encoded data removed]",
            "text/plain": [
              "<Figure size 640x480 with 1 Axes>"
            ]
          },
          "metadata": {},
          "output_type": "display_data"
        }
      ],
      "source": [
        "x = [str(exp[\"n_mels\"]) for exp in [exp_1, exp_2, exp_3]]\n",
        "y = [exp[\"test_acc\"] for exp in [exp_1, exp_2, exp_3]]\n",
        "\n",
        "plt.bar(x, y)\n",
        "plt.plot(x, y, color='g', marker='o', markersize=7)\n",
        "plt.ylim(0.96, 1)\n",
        "plt.xlabel(\"N Mels\")\n",
        "plt.ylabel(\"Test Acc.\")\n",
        "plt.title(\"N Mels vs Test Acc.\")"
      ]
    },
    {
      "cell_type": "code",
      "execution_count": 40,
      "metadata": {},
      "outputs": [
        {
          "data": {
            "text/plain": [
              "Text(0.5, 1.0, 'N Mels vs Avg. Epoch Time (sec.)')"
            ]
          },
          "execution_count": 40,
          "metadata": {},
          "output_type": "execute_result"
        },
        {
          "data": {
            "image/png": "[encoded data removed]",
            "text/plain": [
              "<Figure size 640x480 with 1 Axes>"
            ]
          },
          "metadata": {},
          "output_type": "display_data"
        }
      ],
      "source": [
        "x = [str(exp[\"n_mels\"]) for exp in [exp_1, exp_2, exp_3]]\n",
        "y = [exp[\"avg_epoch_time\"] for exp in [exp_1, exp_2, exp_3]]\n",
        "\n",
        "plt.bar(x, y)\n",
        "plt.plot(x, y, color='g', marker='o', markersize=7)\n",
        "plt.xlabel(\"N Mels\")\n",
        "plt.ylabel(\"Avg. Epoch Time (sec.)\")\n",
        "plt.title(\"N Mels vs Avg. Epoch Time (sec.)\")"
      ]
    },
    {
      "cell_type": "code",
      "execution_count": 29,
      "metadata": {
        "id": "RlXmcBbSFJhg"
      },
      "outputs": [
        {
          "name": "stdout",
          "output_type": "stream",
          "text": [
            "Number of parameters: 13313\n",
            "FLOPs: 1.24 MMac Params: 13.31 k\n"
          ]
        },
        {
          "name": "stderr",
          "output_type": "stream",
          "text": [
            "Train: 100%|██████████| 25/25 [00:19<00:00,  1.25it/s]\n",
            "Eval: 100%|██████████| 4/4 [00:02<00:00,  1.59it/s]\n"
          ]
        },
        {
          "name": "stdout",
          "output_type": "stream",
          "text": [
            "Epoch - 1/10 - Train Loss: 0.26518417032832203 - Val Loss: 0.17256167902150754 - Val Acc.: 0.962640099626401\n"
          ]
        },
        {
          "name": "stderr",
          "output_type": "stream",
          "text": [
            "Train: 100%|██████████| 25/25 [00:20<00:00,  1.24it/s]\n",
            "Eval: 100%|██████████| 4/4 [00:02<00:00,  1.62it/s]\n"
          ]
        },
        {
          "name": "stdout",
          "output_type": "stream",
          "text": [
            "Epoch - 2/10 - Train Loss: 0.09705890402240024 - Val Loss: 0.09537746745902827 - Val Acc.: 0.9638854296388543\n"
          ]
        },
        {
          "name": "stderr",
          "output_type": "stream",
          "text": [
            "Train: 100%|██████████| 25/25 [00:19<00:00,  1.28it/s]\n",
            "Eval: 100%|██████████| 4/4 [00:02<00:00,  1.53it/s]\n"
          ]
        },
        {
          "name": "stdout",
          "output_type": "stream",
          "text": [
            "Epoch - 3/10 - Train Loss: 0.05921432844410906 - Val Loss: 0.07013052294047023 - Val Acc.: 0.9701120797011208\n"
          ]
        },
        {
          "name": "stderr",
          "output_type": "stream",
          "text": [
            "Train: 100%|██████████| 25/25 [00:19<00:00,  1.28it/s]\n",
            "Eval: 100%|██████████| 4/4 [00:02<00:00,  1.57it/s]\n"
          ]
        },
        {
          "name": "stdout",
          "output_type": "stream",
          "text": [
            "Epoch - 4/10 - Train Loss: 0.04563807252209754 - Val Loss: 0.05100519934745684 - Val Acc.: 0.9800747198007472\n"
          ]
        },
        {
          "name": "stderr",
          "output_type": "stream",
          "text": [
            "Train: 100%|██████████| 25/25 [00:19<00:00,  1.29it/s]\n",
            "Eval: 100%|██████████| 4/4 [00:02<00:00,  1.61it/s]\n"
          ]
        },
        {
          "name": "stdout",
          "output_type": "stream",
          "text": [
            "Epoch - 5/10 - Train Loss: 0.041987135856359326 - Val Loss: 0.047121635674131315 - Val Acc.: 0.9850560398505604\n"
          ]
        },
        {
          "name": "stderr",
          "output_type": "stream",
          "text": [
            "Train: 100%|██████████| 25/25 [00:19<00:00,  1.29it/s]\n",
            "Eval: 100%|██████████| 4/4 [00:02<00:00,  1.52it/s]\n"
          ]
        },
        {
          "name": "stdout",
          "output_type": "stream",
          "text": [
            "Epoch - 6/10 - Train Loss: 0.03462529479730763 - Val Loss: 0.09969622532055385 - Val Acc.: 0.962640099626401\n"
          ]
        },
        {
          "name": "stderr",
          "output_type": "stream",
          "text": [
            "Train: 100%|██████████| 25/25 [00:19<00:00,  1.29it/s]\n",
            "Eval: 100%|██████████| 4/4 [00:02<00:00,  1.58it/s]\n"
          ]
        },
        {
          "name": "stdout",
          "output_type": "stream",
          "text": [
            "Epoch - 7/10 - Train Loss: 0.029488351703458853 - Val Loss: 0.04079090897689758 - Val Acc.: 0.9813200498132005\n"
          ]
        },
        {
          "name": "stderr",
          "output_type": "stream",
          "text": [
            "Train: 100%|██████████| 25/25 [00:19<00:00,  1.26it/s]\n",
            "Eval: 100%|██████████| 4/4 [00:02<00:00,  1.61it/s]\n"
          ]
        },
        {
          "name": "stdout",
          "output_type": "stream",
          "text": [
            "Epoch - 8/10 - Train Loss: 0.02920290759374095 - Val Loss: 0.03137218910541993 - Val Acc.: 0.9925280199252802\n"
          ]
        },
        {
          "name": "stderr",
          "output_type": "stream",
          "text": [
            "Train: 100%|██████████| 25/25 [00:19<00:00,  1.30it/s]\n",
            "Eval: 100%|██████████| 4/4 [00:02<00:00,  1.60it/s]\n"
          ]
        },
        {
          "name": "stdout",
          "output_type": "stream",
          "text": [
            "Epoch - 9/10 - Train Loss: 0.022749057121647532 - Val Loss: 0.05450325221337081 - Val Acc.: 0.9825653798256538\n"
          ]
        },
        {
          "name": "stderr",
          "output_type": "stream",
          "text": [
            "Train: 100%|██████████| 25/25 [00:19<00:00,  1.30it/s]\n",
            "Eval: 100%|██████████| 4/4 [00:02<00:00,  1.62it/s]\n"
          ]
        },
        {
          "name": "stdout",
          "output_type": "stream",
          "text": [
            "Epoch - 10/10 - Train Loss: 0.020820866778642925 - Val Loss: 0.03150455555953967 - Val Acc.: 0.9887920298879203\n"
          ]
        },
        {
          "name": "stderr",
          "output_type": "stream",
          "text": [
            "Test: 100%|██████████| 4/4 [00:02<00:00,  1.57it/s]"
          ]
        },
        {
          "name": "stdout",
          "output_type": "stream",
          "text": [
            "Test Acc.: 0.9854368932038835\n"
          ]
        },
        {
          "name": "stderr",
          "output_type": "stream",
          "text": [
            "\n"
          ]
        }
      ],
      "source": [
        "exp_2_1 = run_train(40, 2)"
      ]
    },
    {
      "cell_type": "code",
      "execution_count": 30,
      "metadata": {},
      "outputs": [
        {
          "name": "stdout",
          "output_type": "stream",
          "text": [
            "Number of parameters: 6977\n",
            "FLOPs: 1.05 MMac Params: 6.98 k\n"
          ]
        },
        {
          "name": "stderr",
          "output_type": "stream",
          "text": [
            "Train: 100%|██████████| 25/25 [00:19<00:00,  1.27it/s]\n",
            "Eval: 100%|██████████| 4/4 [00:02<00:00,  1.57it/s]\n"
          ]
        },
        {
          "name": "stdout",
          "output_type": "stream",
          "text": [
            "Epoch - 1/10 - Train Loss: 0.4062569831791221 - Val Loss: 0.35034715758165713 - Val Acc.: 0.8493150684931506\n"
          ]
        },
        {
          "name": "stderr",
          "output_type": "stream",
          "text": [
            "Train: 100%|██████████| 25/25 [00:20<00:00,  1.24it/s]\n",
            "Eval: 100%|██████████| 4/4 [00:02<00:00,  1.52it/s]\n"
          ]
        },
        {
          "name": "stdout",
          "output_type": "stream",
          "text": [
            "Epoch - 2/10 - Train Loss: 0.15596386689497038 - Val Loss: 0.13513316324497962 - Val Acc.: 0.958904109589041\n"
          ]
        },
        {
          "name": "stderr",
          "output_type": "stream",
          "text": [
            "Train: 100%|██████████| 25/25 [00:19<00:00,  1.28it/s]\n",
            "Eval: 100%|██████████| 4/4 [00:02<00:00,  1.61it/s]\n"
          ]
        },
        {
          "name": "stdout",
          "output_type": "stream",
          "text": [
            "Epoch - 3/10 - Train Loss: 0.08671190864698022 - Val Loss: 0.13233605348232524 - Val Acc.: 0.9464508094645081\n"
          ]
        },
        {
          "name": "stderr",
          "output_type": "stream",
          "text": [
            "Train: 100%|██████████| 25/25 [00:19<00:00,  1.29it/s]\n",
            "Eval: 100%|██████████| 4/4 [00:02<00:00,  1.60it/s]\n"
          ]
        },
        {
          "name": "stdout",
          "output_type": "stream",
          "text": [
            "Epoch - 4/10 - Train Loss: 0.06699439849248658 - Val Loss: 0.0632604928698813 - Val Acc.: 0.975093399750934\n"
          ]
        },
        {
          "name": "stderr",
          "output_type": "stream",
          "text": [
            "Train: 100%|██████████| 25/25 [00:19<00:00,  1.29it/s]\n",
            "Eval: 100%|██████████| 4/4 [00:02<00:00,  1.59it/s]\n"
          ]
        },
        {
          "name": "stdout",
          "output_type": "stream",
          "text": [
            "Epoch - 5/10 - Train Loss: 0.05583148858867077 - Val Loss: 0.05787362933975376 - Val Acc.: 0.975093399750934\n"
          ]
        },
        {
          "name": "stderr",
          "output_type": "stream",
          "text": [
            "Train: 100%|██████████| 25/25 [00:19<00:00,  1.29it/s]\n",
            "Eval: 100%|██████████| 4/4 [00:02<00:00,  1.60it/s]\n"
          ]
        },
        {
          "name": "stdout",
          "output_type": "stream",
          "text": [
            "Epoch - 6/10 - Train Loss: 0.048108868830588 - Val Loss: 0.05694975395910767 - Val Acc.: 0.9800747198007472\n"
          ]
        },
        {
          "name": "stderr",
          "output_type": "stream",
          "text": [
            "Train: 100%|██████████| 25/25 [00:19<00:00,  1.30it/s]\n",
            "Eval: 100%|██████████| 4/4 [00:02<00:00,  1.63it/s]\n"
          ]
        },
        {
          "name": "stdout",
          "output_type": "stream",
          "text": [
            "Epoch - 7/10 - Train Loss: 0.043828241652467785 - Val Loss: 0.07003332814143723 - Val Acc.: 0.9701120797011208\n"
          ]
        },
        {
          "name": "stderr",
          "output_type": "stream",
          "text": [
            "Train: 100%|██████████| 25/25 [00:19<00:00,  1.30it/s]\n",
            "Eval: 100%|██████████| 4/4 [00:02<00:00,  1.59it/s]\n"
          ]
        },
        {
          "name": "stdout",
          "output_type": "stream",
          "text": [
            "Epoch - 8/10 - Train Loss: 0.037963058811223666 - Val Loss: 0.05114688783197444 - Val Acc.: 0.9800747198007472\n"
          ]
        },
        {
          "name": "stderr",
          "output_type": "stream",
          "text": [
            "Train: 100%|██████████| 25/25 [00:19<00:00,  1.29it/s]\n",
            "Eval: 100%|██████████| 4/4 [00:02<00:00,  1.60it/s]\n"
          ]
        },
        {
          "name": "stdout",
          "output_type": "stream",
          "text": [
            "Epoch - 9/10 - Train Loss: 0.03342237563340328 - Val Loss: 0.09185958126296578 - Val Acc.: 0.9638854296388543\n"
          ]
        },
        {
          "name": "stderr",
          "output_type": "stream",
          "text": [
            "Train: 100%|██████████| 25/25 [00:19<00:00,  1.28it/s]\n",
            "Eval: 100%|██████████| 4/4 [00:02<00:00,  1.60it/s]\n"
          ]
        },
        {
          "name": "stdout",
          "output_type": "stream",
          "text": [
            "Epoch - 10/10 - Train Loss: 0.03494928696009115 - Val Loss: 0.05756474262193903 - Val Acc.: 0.9763387297633873\n"
          ]
        },
        {
          "name": "stderr",
          "output_type": "stream",
          "text": [
            "Test: 100%|██████████| 4/4 [00:02<00:00,  1.54it/s]"
          ]
        },
        {
          "name": "stdout",
          "output_type": "stream",
          "text": [
            "Test Acc.: 0.9696601941747572\n"
          ]
        },
        {
          "name": "stderr",
          "output_type": "stream",
          "text": [
            "\n"
          ]
        }
      ],
      "source": [
        "exp_2_2 = run_train(40, 4)"
      ]
    },
    {
      "cell_type": "code",
      "execution_count": 31,
      "metadata": {},
      "outputs": [
        {
          "name": "stdout",
          "output_type": "stream",
          "text": [
            "Number of parameters: 3809\n",
            "FLOPs: 950.5 KMac Params: 3.81 k\n"
          ]
        },
        {
          "name": "stderr",
          "output_type": "stream",
          "text": [
            "Train: 100%|██████████| 25/25 [00:19<00:00,  1.28it/s]\n",
            "Eval: 100%|██████████| 4/4 [00:02<00:00,  1.60it/s]\n"
          ]
        },
        {
          "name": "stdout",
          "output_type": "stream",
          "text": [
            "Epoch - 1/10 - Train Loss: 0.4369342728544609 - Val Loss: 0.37705357998127065 - Val Acc.: 0.8829389788293898\n"
          ]
        },
        {
          "name": "stderr",
          "output_type": "stream",
          "text": [
            "Train: 100%|██████████| 25/25 [00:19<00:00,  1.29it/s]\n",
            "Eval: 100%|██████████| 4/4 [00:02<00:00,  1.59it/s]\n"
          ]
        },
        {
          "name": "stdout",
          "output_type": "stream",
          "text": [
            "Epoch - 2/10 - Train Loss: 0.20927501397430615 - Val Loss: 0.16485766496783028 - Val Acc.: 0.937733499377335\n"
          ]
        },
        {
          "name": "stderr",
          "output_type": "stream",
          "text": [
            "Train: 100%|██████████| 25/25 [00:19<00:00,  1.27it/s]\n",
            "Eval: 100%|██████████| 4/4 [00:02<00:00,  1.60it/s]\n"
          ]
        },
        {
          "name": "stdout",
          "output_type": "stream",
          "text": [
            "Epoch - 3/10 - Train Loss: 0.13988593878349292 - Val Loss: 0.12484940490308467 - Val Acc.: 0.958904109589041\n"
          ]
        },
        {
          "name": "stderr",
          "output_type": "stream",
          "text": [
            "Train: 100%|██████████| 25/25 [00:19<00:00,  1.29it/s]\n",
            "Eval: 100%|██████████| 4/4 [00:02<00:00,  1.59it/s]\n"
          ]
        },
        {
          "name": "stdout",
          "output_type": "stream",
          "text": [
            "Epoch - 4/10 - Train Loss: 0.11248141416085145 - Val Loss: 0.1042954539729382 - Val Acc.: 0.9713574097135741\n"
          ]
        },
        {
          "name": "stderr",
          "output_type": "stream",
          "text": [
            "Train: 100%|██████████| 25/25 [00:19<00:00,  1.29it/s]\n",
            "Eval: 100%|██████████| 4/4 [00:02<00:00,  1.58it/s]\n"
          ]
        },
        {
          "name": "stdout",
          "output_type": "stream",
          "text": [
            "Epoch - 5/10 - Train Loss: 0.0900587641680042 - Val Loss: 0.09199266074454948 - Val Acc.: 0.9726027397260274\n"
          ]
        },
        {
          "name": "stderr",
          "output_type": "stream",
          "text": [
            "Train: 100%|██████████| 25/25 [00:19<00:00,  1.27it/s]\n",
            "Eval: 100%|██████████| 4/4 [00:02<00:00,  1.60it/s]\n"
          ]
        },
        {
          "name": "stdout",
          "output_type": "stream",
          "text": [
            "Epoch - 6/10 - Train Loss: 0.08084242287982218 - Val Loss: 0.10278560565888956 - Val Acc.: 0.9601494396014943\n"
          ]
        },
        {
          "name": "stderr",
          "output_type": "stream",
          "text": [
            "Train: 100%|██████████| 25/25 [00:19<00:00,  1.28it/s]\n",
            "Eval: 100%|██████████| 4/4 [00:02<00:00,  1.52it/s]\n"
          ]
        },
        {
          "name": "stdout",
          "output_type": "stream",
          "text": [
            "Epoch - 7/10 - Train Loss: 0.06878845989891627 - Val Loss: 0.08632177493974548 - Val Acc.: 0.9713574097135741\n"
          ]
        },
        {
          "name": "stderr",
          "output_type": "stream",
          "text": [
            "Train: 100%|██████████| 25/25 [00:19<00:00,  1.30it/s]\n",
            "Eval: 100%|██████████| 4/4 [00:02<00:00,  1.62it/s]\n"
          ]
        },
        {
          "name": "stdout",
          "output_type": "stream",
          "text": [
            "Epoch - 8/10 - Train Loss: 0.061341254580232776 - Val Loss: 0.07421429158834414 - Val Acc.: 0.9726027397260274\n"
          ]
        },
        {
          "name": "stderr",
          "output_type": "stream",
          "text": [
            "Train: 100%|██████████| 25/25 [00:19<00:00,  1.29it/s]\n",
            "Eval: 100%|██████████| 4/4 [00:02<00:00,  1.55it/s]\n"
          ]
        },
        {
          "name": "stdout",
          "output_type": "stream",
          "text": [
            "Epoch - 9/10 - Train Loss: 0.0553716131670271 - Val Loss: 0.07455522188009836 - Val Acc.: 0.9701120797011208\n"
          ]
        },
        {
          "name": "stderr",
          "output_type": "stream",
          "text": [
            "Train: 100%|██████████| 25/25 [00:19<00:00,  1.29it/s]\n",
            "Eval: 100%|██████████| 4/4 [00:02<00:00,  1.60it/s]\n"
          ]
        },
        {
          "name": "stdout",
          "output_type": "stream",
          "text": [
            "Epoch - 10/10 - Train Loss: 0.05560364717627592 - Val Loss: 0.06903056043709349 - Val Acc.: 0.9763387297633873\n"
          ]
        },
        {
          "name": "stderr",
          "output_type": "stream",
          "text": [
            "Test: 100%|██████████| 4/4 [00:02<00:00,  1.56it/s]"
          ]
        },
        {
          "name": "stdout",
          "output_type": "stream",
          "text": [
            "Test Acc.: 0.9696601941747572\n"
          ]
        },
        {
          "name": "stderr",
          "output_type": "stream",
          "text": [
            "\n"
          ]
        }
      ],
      "source": [
        "exp_2_3 = run_train(40, 8)"
      ]
    },
    {
      "cell_type": "code",
      "execution_count": null,
      "metadata": {},
      "outputs": [
        {
          "ename": "ValueError",
          "evalue": "in_channels must be divisible by groups",
          "output_type": "error",
          "traceback": [
            "\u001b[0;31m---------------------------------------------------------------------------\u001b[0m",
            "\u001b[0;31mValueError\u001b[0m                                Traceback (most recent call last)",
            "Cell \u001b[0;32mIn[32], line 1\u001b[0m\n\u001b[0;32m----> 1\u001b[0m exp_2_4 \u001b[38;5;241m=\u001b[39m \u001b[43mrun_train\u001b[49m\u001b[43m(\u001b[49m\u001b[38;5;241;43m40\u001b[39;49m\u001b[43m,\u001b[49m\u001b[43m \u001b[49m\u001b[38;5;241;43m16\u001b[39;49m\u001b[43m)\u001b[49m\n",
            "Cell \u001b[0;32mIn[15], line 7\u001b[0m, in \u001b[0;36mrun_train\u001b[0;34m(n_mels, groups, epochs)\u001b[0m\n\u001b[1;32m      6\u001b[0m \u001b[38;5;28;01mdef\u001b[39;00m \u001b[38;5;21mrun_train\u001b[39m(n_mels, groups\u001b[38;5;241m=\u001b[39m\u001b[38;5;241m1\u001b[39m, epochs\u001b[38;5;241m=\u001b[39m\u001b[38;5;241m10\u001b[39m):\n\u001b[0;32m----> 7\u001b[0m     model \u001b[38;5;241m=\u001b[39m \u001b[43mM5\u001b[49m\u001b[43m(\u001b[49m\u001b[43mn_input\u001b[49m\u001b[38;5;241;43m=\u001b[39;49m\u001b[43mtransformed\u001b[49m\u001b[38;5;241;43m.\u001b[39;49m\u001b[43mshape\u001b[49m\u001b[43m[\u001b[49m\u001b[38;5;241;43m0\u001b[39;49m\u001b[43m]\u001b[49m\u001b[43m,\u001b[49m\u001b[43m \u001b[49m\u001b[43mn_output\u001b[49m\u001b[38;5;241;43m=\u001b[39;49m\u001b[38;5;28;43mlen\u001b[39;49m\u001b[43m(\u001b[49m\u001b[43mlabels\u001b[49m\u001b[43m)\u001b[49m\u001b[43m,\u001b[49m\u001b[43m \u001b[49m\u001b[43mn_mels\u001b[49m\u001b[38;5;241;43m=\u001b[39;49m\u001b[43mn_mels\u001b[49m\u001b[43m,\u001b[49m\u001b[43m \u001b[49m\u001b[43mgroups\u001b[49m\u001b[38;5;241;43m=\u001b[39;49m\u001b[43mgroups\u001b[49m\u001b[43m)\u001b[49m\n\u001b[1;32m      8\u001b[0m     model\u001b[38;5;241m.\u001b[39mto(device)\n\u001b[1;32m     10\u001b[0m     n \u001b[38;5;241m=\u001b[39m count_parameters(model)\n",
            "Cell \u001b[0;32mIn[6], line 11\u001b[0m, in \u001b[0;36mM5.__init__\u001b[0;34m(self, n_input, n_output, stride, n_channel, n_mels, groups)\u001b[0m\n\u001b[1;32m      9\u001b[0m \u001b[38;5;28msuper\u001b[39m()\u001b[38;5;241m.\u001b[39m\u001b[38;5;21m__init__\u001b[39m()\n\u001b[1;32m     10\u001b[0m \u001b[38;5;28mself\u001b[39m\u001b[38;5;241m.\u001b[39mlogmel \u001b[38;5;241m=\u001b[39m LogMelFilterBanks(n_mels\u001b[38;5;241m=\u001b[39mn_mels)\n\u001b[0;32m---> 11\u001b[0m \u001b[38;5;28mself\u001b[39m\u001b[38;5;241m.\u001b[39mconv1 \u001b[38;5;241m=\u001b[39m \u001b[43mnn\u001b[49m\u001b[38;5;241;43m.\u001b[39;49m\u001b[43mConv1d\u001b[49m\u001b[43m(\u001b[49m\u001b[43mn_mels\u001b[49m\u001b[43m,\u001b[49m\u001b[43m \u001b[49m\u001b[43mn_channel\u001b[49m\u001b[43m,\u001b[49m\u001b[43m \u001b[49m\u001b[43mkernel_size\u001b[49m\u001b[38;5;241;43m=\u001b[39;49m\u001b[38;5;241;43m3\u001b[39;49m\u001b[43m,\u001b[49m\u001b[43m \u001b[49m\u001b[43mpadding\u001b[49m\u001b[38;5;241;43m=\u001b[39;49m\u001b[38;5;241;43m1\u001b[39;49m\u001b[43m,\u001b[49m\u001b[43m \u001b[49m\u001b[43mgroups\u001b[49m\u001b[38;5;241;43m=\u001b[39;49m\u001b[43mgroups\u001b[49m\u001b[43m)\u001b[49m\n\u001b[1;32m     12\u001b[0m \u001b[38;5;28mself\u001b[39m\u001b[38;5;241m.\u001b[39mbn1 \u001b[38;5;241m=\u001b[39m nn\u001b[38;5;241m.\u001b[39mBatchNorm1d(n_channel)\n\u001b[1;32m     13\u001b[0m \u001b[38;5;28mself\u001b[39m\u001b[38;5;241m.\u001b[39mpool1 \u001b[38;5;241m=\u001b[39m nn\u001b[38;5;241m.\u001b[39mMaxPool1d(\u001b[38;5;241m2\u001b[39m)\n",
            "File \u001b[0;32m~/.mlspace/envs/narrative_generation/lib/python3.12/site-packages/torch/nn/modules/conv.py:342\u001b[0m, in \u001b[0;36mConv1d.__init__\u001b[0;34m(self, in_channels, out_channels, kernel_size, stride, padding, dilation, groups, bias, padding_mode, device, dtype)\u001b[0m\n\u001b[1;32m    340\u001b[0m padding_ \u001b[38;5;241m=\u001b[39m padding \u001b[38;5;28;01mif\u001b[39;00m \u001b[38;5;28misinstance\u001b[39m(padding, \u001b[38;5;28mstr\u001b[39m) \u001b[38;5;28;01melse\u001b[39;00m _single(padding)\n\u001b[1;32m    341\u001b[0m dilation_ \u001b[38;5;241m=\u001b[39m _single(dilation)\n\u001b[0;32m--> 342\u001b[0m \u001b[38;5;28;43msuper\u001b[39;49m\u001b[43m(\u001b[49m\u001b[43m)\u001b[49m\u001b[38;5;241;43m.\u001b[39;49m\u001b[38;5;21;43m__init__\u001b[39;49m\u001b[43m(\u001b[49m\n\u001b[1;32m    343\u001b[0m \u001b[43m    \u001b[49m\u001b[43min_channels\u001b[49m\u001b[43m,\u001b[49m\n\u001b[1;32m    344\u001b[0m \u001b[43m    \u001b[49m\u001b[43mout_channels\u001b[49m\u001b[43m,\u001b[49m\n\u001b[1;32m    345\u001b[0m \u001b[43m    \u001b[49m\u001b[43mkernel_size_\u001b[49m\u001b[43m,\u001b[49m\n\u001b[1;32m    346\u001b[0m \u001b[43m    \u001b[49m\u001b[43mstride_\u001b[49m\u001b[43m,\u001b[49m\n\u001b[1;32m    347\u001b[0m \u001b[43m    \u001b[49m\u001b[43mpadding_\u001b[49m\u001b[43m,\u001b[49m\n\u001b[1;32m    348\u001b[0m \u001b[43m    \u001b[49m\u001b[43mdilation_\u001b[49m\u001b[43m,\u001b[49m\n\u001b[1;32m    349\u001b[0m \u001b[43m    \u001b[49m\u001b[38;5;28;43;01mFalse\u001b[39;49;00m\u001b[43m,\u001b[49m\n\u001b[1;32m    350\u001b[0m \u001b[43m    \u001b[49m\u001b[43m_single\u001b[49m\u001b[43m(\u001b[49m\u001b[38;5;241;43m0\u001b[39;49m\u001b[43m)\u001b[49m\u001b[43m,\u001b[49m\n\u001b[1;32m    351\u001b[0m \u001b[43m    \u001b[49m\u001b[43mgroups\u001b[49m\u001b[43m,\u001b[49m\n\u001b[1;32m    352\u001b[0m \u001b[43m    \u001b[49m\u001b[43mbias\u001b[49m\u001b[43m,\u001b[49m\n\u001b[1;32m    353\u001b[0m \u001b[43m    \u001b[49m\u001b[43mpadding_mode\u001b[49m\u001b[43m,\u001b[49m\n\u001b[1;32m    354\u001b[0m \u001b[43m    \u001b[49m\u001b[38;5;241;43m*\u001b[39;49m\u001b[38;5;241;43m*\u001b[39;49m\u001b[43mfactory_kwargs\u001b[49m\u001b[43m,\u001b[49m\n\u001b[1;32m    355\u001b[0m \u001b[43m\u001b[49m\u001b[43m)\u001b[49m\n",
            "File \u001b[0;32m~/.mlspace/envs/narrative_generation/lib/python3.12/site-packages/torch/nn/modules/conv.py:107\u001b[0m, in \u001b[0;36m_ConvNd.__init__\u001b[0;34m(self, in_channels, out_channels, kernel_size, stride, padding, dilation, transposed, output_padding, groups, bias, padding_mode, device, dtype)\u001b[0m\n\u001b[1;32m    105\u001b[0m     \u001b[38;5;28;01mraise\u001b[39;00m \u001b[38;5;167;01mValueError\u001b[39;00m(\u001b[38;5;124m\"\u001b[39m\u001b[38;5;124mgroups must be a positive integer\u001b[39m\u001b[38;5;124m\"\u001b[39m)\n\u001b[1;32m    106\u001b[0m \u001b[38;5;28;01mif\u001b[39;00m in_channels \u001b[38;5;241m%\u001b[39m groups \u001b[38;5;241m!=\u001b[39m \u001b[38;5;241m0\u001b[39m:\n\u001b[0;32m--> 107\u001b[0m     \u001b[38;5;28;01mraise\u001b[39;00m \u001b[38;5;167;01mValueError\u001b[39;00m(\u001b[38;5;124m\"\u001b[39m\u001b[38;5;124min_channels must be divisible by groups\u001b[39m\u001b[38;5;124m\"\u001b[39m)\n\u001b[1;32m    108\u001b[0m \u001b[38;5;28;01mif\u001b[39;00m out_channels \u001b[38;5;241m%\u001b[39m groups \u001b[38;5;241m!=\u001b[39m \u001b[38;5;241m0\u001b[39m:\n\u001b[1;32m    109\u001b[0m     \u001b[38;5;28;01mraise\u001b[39;00m \u001b[38;5;167;01mValueError\u001b[39;00m(\u001b[38;5;124m\"\u001b[39m\u001b[38;5;124mout_channels must be divisible by groups\u001b[39m\u001b[38;5;124m\"\u001b[39m)\n",
            "\u001b[0;31mValueError\u001b[0m: in_channels must be divisible by groups"
          ]
        }
      ],
      "source": [
        "#exp_2_4 = run_train(40, 16)"
      ]
    },
    {
      "cell_type": "code",
      "execution_count": 35,
      "metadata": {},
      "outputs": [
        {
          "data": {
            "text/plain": [
              "Text(0.5, 1.0, 'Conv Group vs Avg. Epoch Time (sec.)')"
            ]
          },
          "execution_count": 35,
          "metadata": {},
          "output_type": "execute_result"
        },
        {
          "data": {
            "image/png": "[encoded data removed]",
            "text/plain": [
              "<Figure size 640x480 with 1 Axes>"
            ]
          },
          "metadata": {},
          "output_type": "display_data"
        }
      ],
      "source": [
        "x = [str(exp[\"groups\"]) for exp in [exp_2_1, exp_2_2, exp_2_3]]\n",
        "y = [exp[\"avg_epoch_time\"] for exp in [exp_2_1, exp_2_2, exp_2_3]]\n",
        "\n",
        "plt.bar(x, y)\n",
        "plt.plot(x, y, color='g', marker='o', markersize=7)\n",
        "plt.ylim(18, 20)\n",
        "plt.xlabel(\"Conv Groups\")\n",
        "plt.ylabel(\"Avg. Epoch Time (sec.)\")\n",
        "plt.title(\"Conv Group vs Avg. Epoch Time (sec.)\")"
      ]
    },
    {
      "cell_type": "code",
      "execution_count": 38,
      "metadata": {},
      "outputs": [
        {
          "data": {
            "text/plain": [
              "Text(0.5, 1.0, 'Conv Group vs Number of Params.')"
            ]
          },
          "execution_count": 38,
          "metadata": {},
          "output_type": "execute_result"
        },
        {
          "data": {
            "image/png": "[encoded data removed]",
            "text/plain": [
              "<Figure size 640x480 with 1 Axes>"
            ]
          },
          "metadata": {},
          "output_type": "display_data"
        }
      ],
      "source": [
        "x = [str(exp[\"groups\"]) for exp in [exp_2_1, exp_2_2, exp_2_3]]\n",
        "y = [exp[\"n_params\"] for exp in [exp_2_1, exp_2_2, exp_2_3]]\n",
        "\n",
        "plt.bar(x, y)\n",
        "plt.plot(x, y, color='g', marker='o', markersize=7)\n",
        "#plt.ylim(18, 20)\n",
        "plt.xlabel(\"Conv Groups\")\n",
        "plt.ylabel(\"Number of Params.\")\n",
        "plt.title(\"Conv Group vs Number of Params.\")"
      ]
    },
    {
      "cell_type": "code",
      "execution_count": 39,
      "metadata": {},
      "outputs": [
        {
          "data": {
            "text/plain": [
              "Text(0.5, 1.0, 'Conv Groups vs Flops')"
            ]
          },
          "execution_count": 39,
          "metadata": {},
          "output_type": "execute_result"
        },
        {
          "data": {
            "image/png": "[encoded data removed]",
            "text/plain": [
              "<Figure size 640x480 with 1 Axes>"
            ]
          },
          "metadata": {},
          "output_type": "display_data"
        }
      ],
      "source": [
        "x = [str(exp[\"groups\"]) for exp in [exp_2_1, exp_2_2, exp_2_3]]\n",
        "y = [exp[\"flops\"] for exp in [exp_2_1, exp_2_2, exp_2_3]]\n",
        "\n",
        "plt.bar(x, y)\n",
        "plt.plot(x, y, color='g', marker='o', markersize=7)\n",
        "#plt.ylim(18, 20)\n",
        "plt.xlabel(\"Conv Groups\")\n",
        "plt.ylabel(\"Flops\")\n",
        "plt.title(\"Conv Groups vs Flops\")"
      ]
    },
    {
      "cell_type": "code",
      "execution_count": null,
      "metadata": {},
      "outputs": [],
      "source": []
    }
  ],
  "metadata": {
    "accelerator": "GPU",
    "colab": {
      "gpuType": "T4",
      "provenance": []
    },
    "kernelspec": {
      "display_name": "narrative_generation",
      "language": "python",
      "name": "python3"
    },
    "language_info": {
      "codemirror_mode": {
        "name": "ipython",
        "version": 3
      },
      "file_extension": ".py",
      "mimetype": "text/x-python",
      "name": "python",
      "nbconvert_exporter": "python",
      "pygments_lexer": "ipython3",
      "version": "3.12.8"
    }
  },
  "nbformat": 4,
  "nbformat_minor": 0
}
